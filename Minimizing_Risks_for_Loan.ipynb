{
 "cells": [
  {
   "cell_type": "code",
   "execution_count": 1,
   "metadata": {},
   "outputs": [],
   "source": [
    "import pandas as pd\n",
    "import numpy as np\n",
    "\n",
    "import re\n",
    "\n",
    "import matplotlib.pyplot as plt\n",
    "import seaborn as sns\n",
    "\n",
    "from sklearn.model_selection import train_test_split\n",
    "from sklearn.metrics import accuracy_score, precision_score, recall_score, confusion_matrix, precision_recall_curve\n",
    "from catboost import Pool, CatBoostClassifier\n",
    "\n",
    "from scipy.stats import pearsonr, chi2_contingency\n",
    "from itertools import combinations\n",
    "from statsmodels.stats.proportion import proportion_confint"
   ]
  },
  {
   "cell_type": "markdown",
   "metadata": {},
   "source": [
    "There are 2 million rows in total, in order to reduce the pricessing times here only selecting the loans issued in 2018."
   ]
  },
  {
   "cell_type": "code",
   "execution_count": 2,
   "metadata": {},
   "outputs": [
    {
     "name": "stderr",
     "output_type": "stream",
     "text": [
      "/Users/bcchochoao/opt/anaconda2/envs/Notebook/lib/python3.8/site-packages/IPython/core/interactiveshell.py:3062: DtypeWarning: Columns (0,19,49,59,118,129,130,131,134,135,136,139,145,146,147) have mixed types.Specify dtype option on import or set low_memory=False.\n",
      "  has_raised = await self.run_ast_nodes(code_ast.body, cell_name,\n"
     ]
    },
    {
     "data": {
      "text/html": [
       "<div>\n",
       "<style scoped>\n",
       "    .dataframe tbody tr th:only-of-type {\n",
       "        vertical-align: middle;\n",
       "    }\n",
       "\n",
       "    .dataframe tbody tr th {\n",
       "        vertical-align: top;\n",
       "    }\n",
       "\n",
       "    .dataframe thead th {\n",
       "        text-align: right;\n",
       "    }\n",
       "</style>\n",
       "<table border=\"1\" class=\"dataframe\">\n",
       "  <thead>\n",
       "    <tr style=\"text-align: right;\">\n",
       "      <th></th>\n",
       "      <th>id</th>\n",
       "      <th>member_id</th>\n",
       "      <th>loan_amnt</th>\n",
       "      <th>funded_amnt</th>\n",
       "      <th>funded_amnt_inv</th>\n",
       "      <th>term</th>\n",
       "      <th>int_rate</th>\n",
       "      <th>installment</th>\n",
       "      <th>grade</th>\n",
       "      <th>sub_grade</th>\n",
       "      <th>...</th>\n",
       "      <th>hardship_payoff_balance_amount</th>\n",
       "      <th>hardship_last_payment_amount</th>\n",
       "      <th>disbursement_method</th>\n",
       "      <th>debt_settlement_flag</th>\n",
       "      <th>debt_settlement_flag_date</th>\n",
       "      <th>settlement_status</th>\n",
       "      <th>settlement_date</th>\n",
       "      <th>settlement_amount</th>\n",
       "      <th>settlement_percentage</th>\n",
       "      <th>settlement_term</th>\n",
       "    </tr>\n",
       "  </thead>\n",
       "  <tbody>\n",
       "    <tr>\n",
       "      <th>0</th>\n",
       "      <td>130954621</td>\n",
       "      <td>NaN</td>\n",
       "      <td>5000.0</td>\n",
       "      <td>5000.0</td>\n",
       "      <td>5000.0</td>\n",
       "      <td>36 months</td>\n",
       "      <td>20.39</td>\n",
       "      <td>186.82</td>\n",
       "      <td>D</td>\n",
       "      <td>D4</td>\n",
       "      <td>...</td>\n",
       "      <td>NaN</td>\n",
       "      <td>NaN</td>\n",
       "      <td>Cash</td>\n",
       "      <td>N</td>\n",
       "      <td>NaN</td>\n",
       "      <td>NaN</td>\n",
       "      <td>NaN</td>\n",
       "      <td>NaN</td>\n",
       "      <td>NaN</td>\n",
       "      <td>NaN</td>\n",
       "    </tr>\n",
       "    <tr>\n",
       "      <th>1</th>\n",
       "      <td>130964697</td>\n",
       "      <td>NaN</td>\n",
       "      <td>15000.0</td>\n",
       "      <td>15000.0</td>\n",
       "      <td>15000.0</td>\n",
       "      <td>36 months</td>\n",
       "      <td>9.92</td>\n",
       "      <td>483.45</td>\n",
       "      <td>B</td>\n",
       "      <td>B2</td>\n",
       "      <td>...</td>\n",
       "      <td>NaN</td>\n",
       "      <td>NaN</td>\n",
       "      <td>Cash</td>\n",
       "      <td>N</td>\n",
       "      <td>NaN</td>\n",
       "      <td>NaN</td>\n",
       "      <td>NaN</td>\n",
       "      <td>NaN</td>\n",
       "      <td>NaN</td>\n",
       "      <td>NaN</td>\n",
       "    </tr>\n",
       "    <tr>\n",
       "      <th>2</th>\n",
       "      <td>130955326</td>\n",
       "      <td>NaN</td>\n",
       "      <td>11200.0</td>\n",
       "      <td>11200.0</td>\n",
       "      <td>11200.0</td>\n",
       "      <td>60 months</td>\n",
       "      <td>30.79</td>\n",
       "      <td>367.82</td>\n",
       "      <td>G</td>\n",
       "      <td>G1</td>\n",
       "      <td>...</td>\n",
       "      <td>NaN</td>\n",
       "      <td>NaN</td>\n",
       "      <td>Cash</td>\n",
       "      <td>N</td>\n",
       "      <td>NaN</td>\n",
       "      <td>NaN</td>\n",
       "      <td>NaN</td>\n",
       "      <td>NaN</td>\n",
       "      <td>NaN</td>\n",
       "      <td>NaN</td>\n",
       "    </tr>\n",
       "    <tr>\n",
       "      <th>3</th>\n",
       "      <td>130504052</td>\n",
       "      <td>NaN</td>\n",
       "      <td>25000.0</td>\n",
       "      <td>25000.0</td>\n",
       "      <td>25000.0</td>\n",
       "      <td>60 months</td>\n",
       "      <td>21.85</td>\n",
       "      <td>688.35</td>\n",
       "      <td>D</td>\n",
       "      <td>D5</td>\n",
       "      <td>...</td>\n",
       "      <td>NaN</td>\n",
       "      <td>NaN</td>\n",
       "      <td>Cash</td>\n",
       "      <td>N</td>\n",
       "      <td>NaN</td>\n",
       "      <td>NaN</td>\n",
       "      <td>NaN</td>\n",
       "      <td>NaN</td>\n",
       "      <td>NaN</td>\n",
       "      <td>NaN</td>\n",
       "    </tr>\n",
       "    <tr>\n",
       "      <th>4</th>\n",
       "      <td>130956066</td>\n",
       "      <td>NaN</td>\n",
       "      <td>3000.0</td>\n",
       "      <td>3000.0</td>\n",
       "      <td>3000.0</td>\n",
       "      <td>36 months</td>\n",
       "      <td>7.34</td>\n",
       "      <td>93.10</td>\n",
       "      <td>A</td>\n",
       "      <td>A4</td>\n",
       "      <td>...</td>\n",
       "      <td>NaN</td>\n",
       "      <td>NaN</td>\n",
       "      <td>Cash</td>\n",
       "      <td>N</td>\n",
       "      <td>NaN</td>\n",
       "      <td>NaN</td>\n",
       "      <td>NaN</td>\n",
       "      <td>NaN</td>\n",
       "      <td>NaN</td>\n",
       "      <td>NaN</td>\n",
       "    </tr>\n",
       "  </tbody>\n",
       "</table>\n",
       "<p>5 rows × 151 columns</p>\n",
       "</div>"
      ],
      "text/plain": [
       "          id  member_id  loan_amnt  funded_amnt  funded_amnt_inv        term  \\\n",
       "0  130954621        NaN     5000.0       5000.0           5000.0   36 months   \n",
       "1  130964697        NaN    15000.0      15000.0          15000.0   36 months   \n",
       "2  130955326        NaN    11200.0      11200.0          11200.0   60 months   \n",
       "3  130504052        NaN    25000.0      25000.0          25000.0   60 months   \n",
       "4  130956066        NaN     3000.0       3000.0           3000.0   36 months   \n",
       "\n",
       "   int_rate  installment grade sub_grade  ... hardship_payoff_balance_amount  \\\n",
       "0     20.39       186.82     D        D4  ...                            NaN   \n",
       "1      9.92       483.45     B        B2  ...                            NaN   \n",
       "2     30.79       367.82     G        G1  ...                            NaN   \n",
       "3     21.85       688.35     D        D5  ...                            NaN   \n",
       "4      7.34        93.10     A        A4  ...                            NaN   \n",
       "\n",
       "  hardship_last_payment_amount disbursement_method  debt_settlement_flag  \\\n",
       "0                          NaN                Cash                     N   \n",
       "1                          NaN                Cash                     N   \n",
       "2                          NaN                Cash                     N   \n",
       "3                          NaN                Cash                     N   \n",
       "4                          NaN                Cash                     N   \n",
       "\n",
       "  debt_settlement_flag_date settlement_status settlement_date  \\\n",
       "0                       NaN               NaN             NaN   \n",
       "1                       NaN               NaN             NaN   \n",
       "2                       NaN               NaN             NaN   \n",
       "3                       NaN               NaN             NaN   \n",
       "4                       NaN               NaN             NaN   \n",
       "\n",
       "  settlement_amount settlement_percentage settlement_term  \n",
       "0               NaN                   NaN             NaN  \n",
       "1               NaN                   NaN             NaN  \n",
       "2               NaN                   NaN             NaN  \n",
       "3               NaN                   NaN             NaN  \n",
       "4               NaN                   NaN             NaN  \n",
       "\n",
       "[5 rows x 151 columns]"
      ]
     },
     "execution_count": 2,
     "metadata": {},
     "output_type": "execute_result"
    }
   ],
   "source": [
    "data = pd.read_csv(\n",
    "    'accepted_2007_to_2018Q4.csv',\n",
    "    parse_dates=['issue_d'], infer_datetime_format=True)\n",
    "data = data[(data.issue_d >= '2018-01-01 00:00:00') & (data.issue_d < '2019-01-01 00:00:00')]\n",
    "data = data.reset_index(drop=True)\n",
    "data.head()"
   ]
  },
  {
   "cell_type": "code",
   "execution_count": 3,
   "metadata": {
    "scrolled": true
   },
   "outputs": [
    {
     "data": {
      "text/html": [
       "<div>\n",
       "<style scoped>\n",
       "    .dataframe tbody tr th:only-of-type {\n",
       "        vertical-align: middle;\n",
       "    }\n",
       "\n",
       "    .dataframe tbody tr th {\n",
       "        vertical-align: top;\n",
       "    }\n",
       "\n",
       "    .dataframe thead th {\n",
       "        text-align: right;\n",
       "    }\n",
       "</style>\n",
       "<table border=\"1\" class=\"dataframe\">\n",
       "  <thead>\n",
       "    <tr style=\"text-align: right;\">\n",
       "      <th></th>\n",
       "      <th>BrowseNotesFile</th>\n",
       "      <th>Description</th>\n",
       "    </tr>\n",
       "  </thead>\n",
       "  <tbody>\n",
       "    <tr>\n",
       "      <th>0</th>\n",
       "      <td>acceptD</td>\n",
       "      <td>The date which the borrower accepted  the offer</td>\n",
       "    </tr>\n",
       "    <tr>\n",
       "      <th>1</th>\n",
       "      <td>accNowDelinq</td>\n",
       "      <td>The number of accounts on which the borrower i...</td>\n",
       "    </tr>\n",
       "    <tr>\n",
       "      <th>2</th>\n",
       "      <td>accOpenPast24Mths</td>\n",
       "      <td>Number of trades opened in past 24 months.</td>\n",
       "    </tr>\n",
       "    <tr>\n",
       "      <th>3</th>\n",
       "      <td>addrState</td>\n",
       "      <td>The state provided by the borrower in the loan...</td>\n",
       "    </tr>\n",
       "    <tr>\n",
       "      <th>4</th>\n",
       "      <td>all_util</td>\n",
       "      <td>Balance to credit limit on all trades</td>\n",
       "    </tr>\n",
       "  </tbody>\n",
       "</table>\n",
       "</div>"
      ],
      "text/plain": [
       "     BrowseNotesFile                                        Description\n",
       "0            acceptD    The date which the borrower accepted  the offer\n",
       "1       accNowDelinq  The number of accounts on which the borrower i...\n",
       "2  accOpenPast24Mths         Number of trades opened in past 24 months.\n",
       "3          addrState  The state provided by the borrower in the loan...\n",
       "4           all_util              Balance to credit limit on all trades"
      ]
     },
     "execution_count": 3,
     "metadata": {},
     "output_type": "execute_result"
    }
   ],
   "source": [
    "browse_notes = pd.read_excel('LCDataDictionary.xlsx',\n",
    "                             sheet_name=1)\n",
    "browse_notes.head()"
   ]
  },
  {
   "cell_type": "markdown",
   "metadata": {},
   "source": [
    "The 'LCDataDictionary.xlsx' contains the list of geatures that are visible to investors."
   ]
  },
  {
   "cell_type": "code",
   "execution_count": 4,
   "metadata": {},
   "outputs": [],
   "source": [
    "browse_feat = browse_notes['BrowseNotesFile'].dropna().values\n",
    "browse_feat = [re.sub('(?<![0-9_])(?=[A-Z0-9])', '_', x).lower().strip() for x in browse_feat]"
   ]
  },
  {
   "cell_type": "markdown",
   "metadata": {},
   "source": [
    "The missing rows are removed from 'browse_notes' and saved in 'browse_feat'"
   ]
  },
  {
   "cell_type": "code",
   "execution_count": 5,
   "metadata": {},
   "outputs": [
    {
     "data": {
      "text/plain": [
       "array(['accept_d', 'credit_pull_d', 'effective_int_rate', 'exp_d',\n",
       "       'exp_default_rate', 'ils_exp_d', 'is_inc_v', 'list_d', 'msa',\n",
       "       'mths_since_most_recent_inq', 'mths_since_oldest_il_open',\n",
       "       'mths_since_recent_loan_delinq', 'review_status',\n",
       "       'review_status_d', 'service_fee_rate', 'verified_status_joint'],\n",
       "      dtype='<U35')"
      ]
     },
     "execution_count": 5,
     "metadata": {},
     "output_type": "execute_result"
    }
   ],
   "source": [
    "data_feat = data.columns.values\n",
    "np.setdiff1d(browse_feat, data_feat)"
   ]
  },
  {
   "cell_type": "raw",
   "metadata": {},
   "source": [
    "Print out the unmatched features from obth lists for the later checking."
   ]
  },
  {
   "cell_type": "code",
   "execution_count": 6,
   "metadata": {},
   "outputs": [
    {
     "data": {
      "text/plain": [
       "array(['collection_recovery_fee', 'debt_settlement_flag',\n",
       "       'debt_settlement_flag_date', 'deferral_term', 'funded_amnt_inv',\n",
       "       'hardship_amount', 'hardship_dpd', 'hardship_end_date',\n",
       "       'hardship_flag', 'hardship_last_payment_amount', 'hardship_length',\n",
       "       'hardship_loan_status', 'hardship_payoff_balance_amount',\n",
       "       'hardship_reason', 'hardship_start_date', 'hardship_status',\n",
       "       'hardship_type', 'issue_d', 'last_credit_pull_d',\n",
       "       'last_fico_range_high', 'last_fico_range_low', 'last_pymnt_amnt',\n",
       "       'last_pymnt_d', 'loan_status', 'mo_sin_old_il_acct',\n",
       "       'mths_since_recent_bc_dlq', 'mths_since_recent_inq',\n",
       "       'next_pymnt_d', 'orig_projected_additional_accrued_interest',\n",
       "       'out_prncp', 'out_prncp_inv', 'payment_plan_start_date',\n",
       "       'policy_code', 'pymnt_plan', 'recoveries', 'settlement_amount',\n",
       "       'settlement_date', 'settlement_percentage', 'settlement_status',\n",
       "       'settlement_term', 'total_pymnt', 'total_pymnt_inv',\n",
       "       'total_rec_int', 'total_rec_late_fee', 'total_rec_prncp',\n",
       "       'verification_status', 'verification_status_joint'], dtype=object)"
      ]
     },
     "execution_count": 6,
     "metadata": {},
     "output_type": "execute_result"
    }
   ],
   "source": [
    "np.setdiff1d(data_feat, browse_feat)"
   ]
  },
  {
   "cell_type": "code",
   "execution_count": 7,
   "metadata": {},
   "outputs": [],
   "source": [
    "wrong = ['is_inc_v', 'mths_since_most_recent_inq', 'mths_since_oldest_il_open',\n",
    "         'mths_since_recent_loan_delinq', 'verified_status_joint']\n",
    "correct = ['verification_status', 'mths_since_recent_inq', 'mo_sin_old_il_acct',\n",
    "           'mths_since_recent_bc_dlq', 'verification_status_joint']\n",
    "\n",
    "browse_feat = np.setdiff1d(browse_feat, wrong)\n",
    "browse_feat = np.append(browse_feat, correct)"
   ]
  },
  {
   "cell_type": "markdown",
   "metadata": {},
   "source": [
    "We found that some features are named differently but represent the same thing. Thus, I name one of them as correct, and the rest same features wrong. Then, I remove the wrong ones and only save the correct ones."
   ]
  },
  {
   "cell_type": "code",
   "execution_count": 8,
   "metadata": {},
   "outputs": [
    {
     "name": "stdout",
     "output_type": "stream",
     "text": [
      "<class 'pandas.core.frame.DataFrame'>\n",
      "RangeIndex: 495242 entries, 0 to 495241\n",
      "Columns: 109 entries, acc_now_delinq to zip_code\n",
      "dtypes: float64(89), object(20)\n",
      "memory usage: 411.8+ MB\n"
     ]
    }
   ],
   "source": [
    "avail_feat = np.intersect1d(browse_feat, data_feat)\n",
    "X = data[avail_feat].copy()\n",
    "X.info()"
   ]
  },
  {
   "cell_type": "markdown",
   "metadata": {},
   "source": [
    "All marching features are saved in avail_feat list. Then, create a new DataFrame to restore data.\n",
    "Create a DataFrame as a copy is good to avoid hidden chained assignments."
   ]
  },
  {
   "cell_type": "code",
   "execution_count": 9,
   "metadata": {},
   "outputs": [
    {
     "data": {
      "text/html": [
       "<div>\n",
       "<style scoped>\n",
       "    .dataframe tbody tr th:only-of-type {\n",
       "        vertical-align: middle;\n",
       "    }\n",
       "\n",
       "    .dataframe tbody tr th {\n",
       "        vertical-align: top;\n",
       "    }\n",
       "\n",
       "    .dataframe thead th {\n",
       "        text-align: right;\n",
       "    }\n",
       "</style>\n",
       "<table border=\"1\" class=\"dataframe\">\n",
       "  <thead>\n",
       "    <tr style=\"text-align: right;\">\n",
       "      <th></th>\n",
       "      <th>addr_state</th>\n",
       "      <th>application_type</th>\n",
       "      <th>desc</th>\n",
       "      <th>disbursement_method</th>\n",
       "      <th>earliest_cr_line</th>\n",
       "      <th>emp_length</th>\n",
       "      <th>emp_title</th>\n",
       "      <th>grade</th>\n",
       "      <th>home_ownership</th>\n",
       "      <th>id</th>\n",
       "      <th>initial_list_status</th>\n",
       "      <th>purpose</th>\n",
       "      <th>sec_app_earliest_cr_line</th>\n",
       "      <th>sub_grade</th>\n",
       "      <th>term</th>\n",
       "      <th>title</th>\n",
       "      <th>url</th>\n",
       "      <th>verification_status</th>\n",
       "      <th>verification_status_joint</th>\n",
       "      <th>zip_code</th>\n",
       "    </tr>\n",
       "  </thead>\n",
       "  <tbody>\n",
       "    <tr>\n",
       "      <th>0</th>\n",
       "      <td>OK</td>\n",
       "      <td>Individual</td>\n",
       "      <td>NaN</td>\n",
       "      <td>Cash</td>\n",
       "      <td>Jan-2009</td>\n",
       "      <td>8 years</td>\n",
       "      <td>General Manager</td>\n",
       "      <td>D</td>\n",
       "      <td>RENT</td>\n",
       "      <td>130954621</td>\n",
       "      <td>w</td>\n",
       "      <td>other</td>\n",
       "      <td>NaN</td>\n",
       "      <td>D4</td>\n",
       "      <td>36 months</td>\n",
       "      <td>Other</td>\n",
       "      <td>https://lendingclub.com/browse/loanDetail.acti...</td>\n",
       "      <td>Verified</td>\n",
       "      <td>NaN</td>\n",
       "      <td>740xx</td>\n",
       "    </tr>\n",
       "    <tr>\n",
       "      <th>1</th>\n",
       "      <td>FL</td>\n",
       "      <td>Individual</td>\n",
       "      <td>NaN</td>\n",
       "      <td>Cash</td>\n",
       "      <td>Jul-1998</td>\n",
       "      <td>2 years</td>\n",
       "      <td>IT Director</td>\n",
       "      <td>B</td>\n",
       "      <td>OWN</td>\n",
       "      <td>130964697</td>\n",
       "      <td>w</td>\n",
       "      <td>debt_consolidation</td>\n",
       "      <td>NaN</td>\n",
       "      <td>B2</td>\n",
       "      <td>36 months</td>\n",
       "      <td>Debt consolidation</td>\n",
       "      <td>https://lendingclub.com/browse/loanDetail.acti...</td>\n",
       "      <td>Source Verified</td>\n",
       "      <td>NaN</td>\n",
       "      <td>337xx</td>\n",
       "    </tr>\n",
       "    <tr>\n",
       "      <th>2</th>\n",
       "      <td>NH</td>\n",
       "      <td>Joint App</td>\n",
       "      <td>NaN</td>\n",
       "      <td>Cash</td>\n",
       "      <td>Jul-2007</td>\n",
       "      <td>&lt; 1 year</td>\n",
       "      <td>Client services</td>\n",
       "      <td>G</td>\n",
       "      <td>RENT</td>\n",
       "      <td>130955326</td>\n",
       "      <td>w</td>\n",
       "      <td>medical</td>\n",
       "      <td>Feb-2005</td>\n",
       "      <td>G1</td>\n",
       "      <td>60 months</td>\n",
       "      <td>Medical expenses</td>\n",
       "      <td>https://lendingclub.com/browse/loanDetail.acti...</td>\n",
       "      <td>Not Verified</td>\n",
       "      <td>Not Verified</td>\n",
       "      <td>030xx</td>\n",
       "    </tr>\n",
       "    <tr>\n",
       "      <th>3</th>\n",
       "      <td>AL</td>\n",
       "      <td>Individual</td>\n",
       "      <td>NaN</td>\n",
       "      <td>Cash</td>\n",
       "      <td>Mar-1995</td>\n",
       "      <td>10+ years</td>\n",
       "      <td>Asphalt Supervisor</td>\n",
       "      <td>D</td>\n",
       "      <td>MORTGAGE</td>\n",
       "      <td>130504052</td>\n",
       "      <td>w</td>\n",
       "      <td>debt_consolidation</td>\n",
       "      <td>NaN</td>\n",
       "      <td>D5</td>\n",
       "      <td>60 months</td>\n",
       "      <td>Debt consolidation</td>\n",
       "      <td>https://lendingclub.com/browse/loanDetail.acti...</td>\n",
       "      <td>Source Verified</td>\n",
       "      <td>NaN</td>\n",
       "      <td>361xx</td>\n",
       "    </tr>\n",
       "    <tr>\n",
       "      <th>4</th>\n",
       "      <td>WA</td>\n",
       "      <td>Individual</td>\n",
       "      <td>NaN</td>\n",
       "      <td>Cash</td>\n",
       "      <td>Jan-1998</td>\n",
       "      <td>9 years</td>\n",
       "      <td>Scale Technician</td>\n",
       "      <td>A</td>\n",
       "      <td>RENT</td>\n",
       "      <td>130956066</td>\n",
       "      <td>w</td>\n",
       "      <td>major_purchase</td>\n",
       "      <td>NaN</td>\n",
       "      <td>A4</td>\n",
       "      <td>36 months</td>\n",
       "      <td>Major purchase</td>\n",
       "      <td>https://lendingclub.com/browse/loanDetail.acti...</td>\n",
       "      <td>Source Verified</td>\n",
       "      <td>NaN</td>\n",
       "      <td>988xx</td>\n",
       "    </tr>\n",
       "  </tbody>\n",
       "</table>\n",
       "</div>"
      ],
      "text/plain": [
       "  addr_state application_type desc disbursement_method earliest_cr_line  \\\n",
       "0         OK       Individual  NaN                Cash         Jan-2009   \n",
       "1         FL       Individual  NaN                Cash         Jul-1998   \n",
       "2         NH        Joint App  NaN                Cash         Jul-2007   \n",
       "3         AL       Individual  NaN                Cash         Mar-1995   \n",
       "4         WA       Individual  NaN                Cash         Jan-1998   \n",
       "\n",
       "  emp_length           emp_title grade home_ownership         id  \\\n",
       "0    8 years     General Manager     D           RENT  130954621   \n",
       "1    2 years        IT Director      B            OWN  130964697   \n",
       "2   < 1 year    Client services      G           RENT  130955326   \n",
       "3  10+ years  Asphalt Supervisor     D       MORTGAGE  130504052   \n",
       "4    9 years    Scale Technician     A           RENT  130956066   \n",
       "\n",
       "  initial_list_status             purpose sec_app_earliest_cr_line sub_grade  \\\n",
       "0                   w               other                      NaN        D4   \n",
       "1                   w  debt_consolidation                      NaN        B2   \n",
       "2                   w             medical                 Feb-2005        G1   \n",
       "3                   w  debt_consolidation                      NaN        D5   \n",
       "4                   w      major_purchase                      NaN        A4   \n",
       "\n",
       "         term               title  \\\n",
       "0   36 months               Other   \n",
       "1   36 months  Debt consolidation   \n",
       "2   60 months    Medical expenses   \n",
       "3   60 months  Debt consolidation   \n",
       "4   36 months      Major purchase   \n",
       "\n",
       "                                                 url verification_status  \\\n",
       "0  https://lendingclub.com/browse/loanDetail.acti...            Verified   \n",
       "1  https://lendingclub.com/browse/loanDetail.acti...     Source Verified   \n",
       "2  https://lendingclub.com/browse/loanDetail.acti...        Not Verified   \n",
       "3  https://lendingclub.com/browse/loanDetail.acti...     Source Verified   \n",
       "4  https://lendingclub.com/browse/loanDetail.acti...     Source Verified   \n",
       "\n",
       "  verification_status_joint zip_code  \n",
       "0                       NaN    740xx  \n",
       "1                       NaN    337xx  \n",
       "2              Not Verified    030xx  \n",
       "3                       NaN    361xx  \n",
       "4                       NaN    988xx  "
      ]
     },
     "execution_count": 9,
     "metadata": {},
     "output_type": "execute_result"
    }
   ],
   "source": [
    "X.select_dtypes('object').head()"
   ]
  },
  {
   "cell_type": "markdown",
   "metadata": {},
   "source": [
    "Now, check the categorical features and see if we can transfer them to other types."
   ]
  },
  {
   "cell_type": "markdown",
   "metadata": {},
   "source": [
    "The 'earliest_cr_line' and 'sec_app_earliest_cr_line' are dates and their type should be changed to datetime. Later, then will be transformed to ordinal numeric features by the machine learning model."
   ]
  },
  {
   "cell_type": "code",
   "execution_count": 10,
   "metadata": {},
   "outputs": [],
   "source": [
    "X['earliest_cr_line'] = pd.to_datetime(X['earliest_cr_line'], infer_datetime_format=True)\n",
    "X['sec_app_earliest_cr_line'] = pd.to_datetime(X['sec_app_earliest_cr_line'], infer_datetime_format=True)"
   ]
  },
  {
   "cell_type": "code",
   "execution_count": 11,
   "metadata": {},
   "outputs": [],
   "source": [
    "X['emp_length'] = X['emp_length'].replace({'< 1 year': '0 years', '10+ years': '11 years'})\n",
    "X['emp_length'] = X['emp_length'].str.extract('(\\d+)').astype('float')\n",
    "X['id'] = X['id'].astype('float')"
   ]
  },
  {
   "cell_type": "markdown",
   "metadata": {},
   "source": [
    "The emp_length and id are numeric, we need to transfer them to float type. And, change <1 years to 0 year and change 10+ years to 11 years."
   ]
  },
  {
   "cell_type": "code",
   "execution_count": null,
   "metadata": {},
   "outputs": [],
   "source": [
    "#Dealing with Missing Values:"
   ]
  },
  {
   "cell_type": "code",
   "execution_count": 12,
   "metadata": {},
   "outputs": [
    {
     "data": {
      "text/plain": [
       "pct_tl_nvr_dlq                         0.000004\n",
       "avg_cur_bal                            0.000081\n",
       "all_util                               0.000260\n",
       "revol_util                             0.001195\n",
       "dti                                    0.002286\n",
       "mths_since_recent_bc                   0.012515\n",
       "bc_open_to_buy                         0.013303\n",
       "percent_bc_gt_75                       0.013319\n",
       "bc_util                                0.013737\n",
       "num_tl_120dpd_2m                       0.025046\n",
       "mo_sin_old_il_acct                     0.037174\n",
       "mths_since_rcnt_il                     0.037174\n",
       "emp_length                             0.084781\n",
       "emp_title                              0.110368\n",
       "mths_since_recent_inq                  0.123788\n",
       "il_util                                0.163201\n",
       "mths_since_last_delinq                 0.558620\n",
       "mths_since_recent_revol_delinq         0.711878\n",
       "mths_since_last_major_derog            0.768128\n",
       "mths_since_recent_bc_dlq               0.801895\n",
       "sec_app_chargeoff_within_12_mths       0.860704\n",
       "sec_app_inq_last_6mths                 0.860704\n",
       "sec_app_fico_range_low                 0.860704\n",
       "sec_app_fico_range_high                0.860704\n",
       "sec_app_earliest_cr_line               0.860704\n",
       "sec_app_collections_12_mths_ex_med     0.860704\n",
       "revol_bal_joint                        0.860704\n",
       "sec_app_mort_acc                       0.860704\n",
       "sec_app_open_acc                       0.860704\n",
       "dti_joint                              0.860704\n",
       "sec_app_open_act_il                    0.860704\n",
       "annual_inc_joint                       0.860704\n",
       "sec_app_num_rev_accts                  0.860704\n",
       "sec_app_revol_util                     0.863121\n",
       "verification_status_joint              0.870748\n",
       "mths_since_last_record                 0.872822\n",
       "sec_app_mths_since_last_major_derog    0.954816\n",
       "desc                                   1.000000\n",
       "member_id                              1.000000\n",
       "dtype: float64"
      ]
     },
     "execution_count": 12,
     "metadata": {},
     "output_type": "execute_result"
    }
   ],
   "source": [
    "nan_mean = X.isna().mean()\n",
    "nan_mean = nan_mean[nan_mean != 0].sort_values()\n",
    "nan_mean\n",
    "#Here is the columns with missing values and their ratio to the total number of rows:"
   ]
  },
  {
   "cell_type": "markdown",
   "metadata": {},
   "source": [
    "The features 'desc' and 'member_id' are completely empty, so I remove them."
   ]
  },
  {
   "cell_type": "code",
   "execution_count": 13,
   "metadata": {},
   "outputs": [],
   "source": [
    "X = X.drop(['desc', 'member_id'], axis=1, errors='ignore')"
   ]
  },
  {
   "cell_type": "markdown",
   "metadata": {},
   "source": [
    "1.Categorical features: the missing values will be filled with an empty string \" \".\n",
    "2.Numeric features: the missing values should be filled using the maximum value of the respective columns, so these features are placed in the list 'filled_max'.\n",
    "3.Rest of numerix features the missing values should be filled using the minimum values of the respective columns, so these features are placed in the list 'fill_min'."
   ]
  },
  {
   "cell_type": "code",
   "execution_count": 14,
   "metadata": {},
   "outputs": [],
   "source": [
    "fill_empty = ['emp_title', 'verification_status_joint']\n",
    "fill_max = ['bc_open_to_buy', 'mo_sin_old_il_acct', 'mths_since_last_delinq',\n",
    "            'mths_since_last_major_derog', 'mths_since_last_record',\n",
    "            'mths_since_rcnt_il', 'mths_since_recent_bc', 'mths_since_recent_bc_dlq',\n",
    "            'mths_since_recent_inq', 'mths_since_recent_revol_delinq',\n",
    "            'pct_tl_nvr_dlq','sec_app_mths_since_last_major_derog']\n",
    "fill_min = np.setdiff1d(X.columns.values, np.append(fill_empty, fill_max))\n",
    "\n",
    "X[fill_empty] = X[fill_empty].fillna('')\n",
    "X[fill_max] = X[fill_max].fillna(X[fill_max].max())\n",
    "X[fill_min] = X[fill_min].fillna(X[fill_min].min())"
   ]
  },
  {
   "cell_type": "code",
   "execution_count": null,
   "metadata": {},
   "outputs": [],
   "source": [
    "#Multicollinearity:\n",
    "#The highly correlated features decrease importances of each other and can make feature analysis more difficult.\n",
    "#After calculating correlations, then remove the features with high correlation coefficients"
   ]
  },
  {
   "cell_type": "code",
   "execution_count": 15,
   "metadata": {},
   "outputs": [
    {
     "data": {
      "text/plain": [
       "num_tl_120dpd_2m                   1\n",
       "acc_now_delinq                     2\n",
       "num_tl_30dpd                       2\n",
       "inq_last_6mths                     6\n",
       "sec_app_inq_last_6mths             7\n",
       "                               ...  \n",
       "total_il_high_credit_limit    128691\n",
       "total_bal_ex_mort             139900\n",
       "tot_cur_bal                   254794\n",
       "tot_hi_cred_lim               266282\n",
       "id                            495242\n",
       "Length: 90, dtype: int64"
      ]
     },
     "execution_count": 15,
     "metadata": {},
     "output_type": "execute_result"
    }
   ],
   "source": [
    "num_feat = X.select_dtypes('number').columns.values\n",
    "X[num_feat].nunique().sort_values()"
   ]
  },
  {
   "cell_type": "markdown",
   "metadata": {},
   "source": [
    "The feature 'num_t1_120dpd_2m' has only one value (a constant) and can be removed. The feature 'id' has a unique value for each row and should also be removed, otherwise the model will over fit."
   ]
  },
  {
   "cell_type": "code",
   "execution_count": 16,
   "metadata": {},
   "outputs": [],
   "source": [
    "X = X.drop(['num_tl_120dpd_2m', 'id'], axis=1, errors='ignore')"
   ]
  },
  {
   "cell_type": "code",
   "execution_count": 17,
   "metadata": {},
   "outputs": [],
   "source": [
    "#For all pairs of the numeric features: \n",
    "#I calculate their Pearson's R correlation coefficient and store it in corr_num_feat.\n",
    "num_feat = X.select_dtypes('number').columns.values\n",
    "comb_num_feat = np.array(list(combinations(num_feat, 2)))\n",
    "corr_num_feat = np.array([])\n",
    "for comb in comb_num_feat:\n",
    "    corr = pearsonr(X[comb[0]], X[comb[1]])[0]\n",
    "    corr_num_feat = np.append(corr_num_feat, corr)"
   ]
  },
  {
   "cell_type": "code",
   "execution_count": 18,
   "metadata": {},
   "outputs": [
    {
     "data": {
      "text/plain": [
       "array([['acc_now_delinq', 'num_tl_30dpd'],\n",
       "       ['fico_range_high', 'fico_range_low'],\n",
       "       ['funded_amnt', 'installment'],\n",
       "       ['funded_amnt', 'loan_amnt'],\n",
       "       ['installment', 'loan_amnt'],\n",
       "       ['mo_sin_old_il_acct', 'mths_since_rcnt_il'],\n",
       "       ['num_actv_rev_tl', 'num_rev_tl_bal_gt_0'],\n",
       "       ['num_sats', 'open_acc'],\n",
       "       ['sec_app_fico_range_high', 'sec_app_fico_range_low'],\n",
       "       ['sec_app_num_rev_accts', 'sec_app_open_acc'],\n",
       "       ['tot_cur_bal', 'tot_hi_cred_lim'],\n",
       "       ['total_bal_ex_mort', 'total_bal_il'],\n",
       "       ['total_bal_il', 'total_il_high_credit_limit']], dtype='<U35')"
      ]
     },
     "execution_count": 18,
     "metadata": {},
     "output_type": "execute_result"
    }
   ],
   "source": [
    "#The highly correlated pairs with the absolute value of their correlation coefficient ≥0.9 are printed below.\n",
    "high_corr_num = comb_num_feat[np.abs(corr_num_feat) >= 0.9]\n",
    "high_corr_num"
   ]
  },
  {
   "cell_type": "code",
   "execution_count": 19,
   "metadata": {},
   "outputs": [],
   "source": [
    "#The first feature (chosen arbitrarily) from each highly correlated feature pair is then removed.\n",
    "X = X.drop(np.unique(high_corr_num[:, 0]), axis=1, errors='ignore')"
   ]
  },
  {
   "cell_type": "code",
   "execution_count": 20,
   "metadata": {},
   "outputs": [
    {
     "data": {
      "text/plain": [
       "application_type                  2\n",
       "disbursement_method               2\n",
       "initial_list_status               2\n",
       "term                              2\n",
       "verification_status               3\n",
       "home_ownership                    4\n",
       "verification_status_joint         4\n",
       "grade                             7\n",
       "title                            12\n",
       "purpose                          13\n",
       "sub_grade                        35\n",
       "addr_state                       50\n",
       "zip_code                        897\n",
       "emp_title                    129450\n",
       "url                          495242\n",
       "dtype: int64"
      ]
     },
     "execution_count": 20,
     "metadata": {},
     "output_type": "execute_result"
    }
   ],
   "source": [
    "#Then I print out the number of unique values for categorical features.\n",
    "cat_feat = X.select_dtypes('object').columns.values\n",
    "X[cat_feat].nunique().sort_values()"
   ]
  },
  {
   "cell_type": "code",
   "execution_count": 23,
   "metadata": {},
   "outputs": [],
   "source": [
    "#Remove both 'url' and 'emp_title' since they have too many unique values. It can avoid overfitting.\n",
    "X = X.drop(['url','emp_title'], axis=1, errors = 'ignore')"
   ]
  },
  {
   "cell_type": "code",
   "execution_count": 24,
   "metadata": {},
   "outputs": [],
   "source": [
    "#For all pairs of the categorical features :"
   ]
  },
  {
   "cell_type": "markdown",
   "metadata": {},
   "source": [
    "I calculate the Cramer's V correlation coefficient that is expressed through the chi-square statistic  𝜒2\n",
    "χ\n",
    "2\n",
    "  of the contingency table,where  𝑛\n",
    "n\n",
    "  is the sum of all elements in the contingency table,  𝐾1\n",
    "K\n",
    "1\n",
    "  and  𝐾2\n",
    "K\n",
    "2\n",
    "  are the dimensions of the contingency table. Note that Pearson's R correlation coefficient isn't applicable to categorical features and shouldn't be used."
   ]
  },
  {
   "cell_type": "code",
   "execution_count": 22,
   "metadata": {},
   "outputs": [],
   "source": [
    "cat_feat = X.select_dtypes('object').columns.values\n",
    "comb_cat_feat = np.array(list(combinations(cat_feat, 2)))\n",
    "corr_cat_feat = np.array([])\n",
    "for comb in comb_cat_feat:\n",
    "    table = pd.pivot_table(X, values='loan_amnt', index=comb[0], columns=comb[1], aggfunc='count').fillna(0)\n",
    "    corr = np.sqrt(chi2_contingency(table)[0] / (table.values.sum() * (np.min(table.shape) - 1) ) )\n",
    "    corr_cat_feat = np.append(corr_cat_feat, corr)"
   ]
  },
  {
   "cell_type": "code",
   "execution_count": 25,
   "metadata": {},
   "outputs": [
    {
     "data": {
      "text/plain": [
       "array([['addr_state', 'zip_code'],\n",
       "       ['application_type', 'verification_status_joint'],\n",
       "       ['grade', 'sub_grade'],\n",
       "       ['purpose', 'title']], dtype='<U25')"
      ]
     },
     "execution_count": 25,
     "metadata": {},
     "output_type": "execute_result"
    }
   ],
   "source": [
    "#The highly correlated pairs with the absolute value of their correlation coefficient ≥0.9 are printed below.\n",
    "high_corr_cat = comb_cat_feat[corr_cat_feat >= 0.9]\n",
    "high_corr_cat"
   ]
  },
  {
   "cell_type": "markdown",
   "metadata": {},
   "source": [
    "This time I remove the second feature from each highly correlated feature pair in order to keep the feature grade. It will be used later to select high risk / high interest loans."
   ]
  },
  {
   "cell_type": "code",
   "execution_count": 26,
   "metadata": {},
   "outputs": [],
   "source": [
    "X = X.drop(np.unique(high_corr_cat[:, 1]), axis=1, errors='ignore')"
   ]
  },
  {
   "cell_type": "code",
   "execution_count": 28,
   "metadata": {},
   "outputs": [],
   "source": [
    "#Target Features:"
   ]
  },
  {
   "cell_type": "markdown",
   "metadata": {},
   "source": [
    "The target feature for this dataset is an indicator if the loan is good (1) or bad (0). To identify good loans, I use their loan statuses and print their counts below. The description for each status is provided by the Lending Club:\n",
    "\n",
    "Current: Loan is up to date on all outstanding payments.\n",
    "In Grace Period: Loan is past due but within the 15-day grace period.\n",
    "Late (16-30): Loan has not been current for 16 to 30 days.\n",
    "Late (31-120): Loan has not been current for 31 to 120 days.\n",
    "Fully paid: Loan has been fully repaid, either at the expiration of the 3- or 5-year year term or as a result of a prepayment.\n",
    "Default: Loan has not been current for an extended period of time.\n",
    "Charged Off: Loan for which there is no longer a reasonable expectation of further payments."
   ]
  },
  {
   "cell_type": "code",
   "execution_count": 29,
   "metadata": {},
   "outputs": [
    {
     "data": {
      "text/plain": [
       "Current               427181\n",
       "Fully Paid             47444\n",
       "Charged Off             8867\n",
       "Late (31-120 days)      7221\n",
       "In Grace Period         2919\n",
       "Late (16-30 days)       1603\n",
       "Default                    7\n",
       "Name: loan_status, dtype: int64"
      ]
     },
     "execution_count": 29,
     "metadata": {},
     "output_type": "execute_result"
    }
   ],
   "source": [
    "data['loan_status'].value_counts()"
   ]
  },
  {
   "cell_type": "markdown",
   "metadata": {},
   "source": [
    "The loans with the statuses Current and Fully Paid are definitely considered good. The loans with the statuses In Grace Period can be considered good or not depending on strictness of the investor. In this project I consider them as good loans. All the other statuses are considered as bad loans. Note that this dataset is highly imbalanced with the minority class being 0.037 of the majority class."
   ]
  },
  {
   "cell_type": "code",
   "execution_count": 30,
   "metadata": {},
   "outputs": [
    {
     "data": {
      "text/plain": [
       "1    477544\n",
       "0     17698\n",
       "Name: loan_status, dtype: int64"
      ]
     },
     "execution_count": 30,
     "metadata": {},
     "output_type": "execute_result"
    }
   ],
   "source": [
    "y = data['loan_status'].copy()\n",
    "y = y.isin(['Current', 'Fully Paid', 'In Grace Period']).astype('int')\n",
    "y.value_counts()"
   ]
  },
  {
   "cell_type": "code",
   "execution_count": null,
   "metadata": {},
   "outputs": [],
   "source": []
  },
  {
   "cell_type": "code",
   "execution_count": null,
   "metadata": {},
   "outputs": [],
   "source": [
    "# Modelling:"
   ]
  },
  {
   "cell_type": "code",
   "execution_count": null,
   "metadata": {},
   "outputs": [],
   "source": []
  },
  {
   "cell_type": "code",
   "execution_count": null,
   "metadata": {},
   "outputs": [],
   "source": []
  },
  {
   "cell_type": "code",
   "execution_count": null,
   "metadata": {},
   "outputs": [],
   "source": []
  },
  {
   "cell_type": "code",
   "execution_count": null,
   "metadata": {},
   "outputs": [],
   "source": []
  },
  {
   "cell_type": "code",
   "execution_count": null,
   "metadata": {},
   "outputs": [],
   "source": []
  },
  {
   "cell_type": "code",
   "execution_count": null,
   "metadata": {},
   "outputs": [],
   "source": []
  },
  {
   "cell_type": "code",
   "execution_count": null,
   "metadata": {},
   "outputs": [],
   "source": []
  },
  {
   "cell_type": "code",
   "execution_count": null,
   "metadata": {},
   "outputs": [],
   "source": []
  },
  {
   "cell_type": "code",
   "execution_count": null,
   "metadata": {},
   "outputs": [],
   "source": []
  },
  {
   "cell_type": "code",
   "execution_count": null,
   "metadata": {},
   "outputs": [],
   "source": []
  },
  {
   "cell_type": "code",
   "execution_count": null,
   "metadata": {},
   "outputs": [],
   "source": []
  },
  {
   "cell_type": "code",
   "execution_count": null,
   "metadata": {},
   "outputs": [],
   "source": []
  },
  {
   "cell_type": "code",
   "execution_count": null,
   "metadata": {},
   "outputs": [],
   "source": []
  },
  {
   "cell_type": "code",
   "execution_count": null,
   "metadata": {},
   "outputs": [],
   "source": []
  },
  {
   "cell_type": "code",
   "execution_count": null,
   "metadata": {},
   "outputs": [],
   "source": []
  },
  {
   "cell_type": "code",
   "execution_count": null,
   "metadata": {},
   "outputs": [],
   "source": []
  },
  {
   "cell_type": "code",
   "execution_count": null,
   "metadata": {},
   "outputs": [],
   "source": []
  },
  {
   "cell_type": "code",
   "execution_count": null,
   "metadata": {},
   "outputs": [],
   "source": []
  },
  {
   "cell_type": "code",
   "execution_count": null,
   "metadata": {},
   "outputs": [],
   "source": []
  },
  {
   "cell_type": "code",
   "execution_count": null,
   "metadata": {},
   "outputs": [],
   "source": []
  },
  {
   "cell_type": "code",
   "execution_count": null,
   "metadata": {},
   "outputs": [],
   "source": []
  },
  {
   "cell_type": "code",
   "execution_count": null,
   "metadata": {},
   "outputs": [],
   "source": []
  },
  {
   "cell_type": "code",
   "execution_count": null,
   "metadata": {},
   "outputs": [],
   "source": []
  },
  {
   "cell_type": "code",
   "execution_count": null,
   "metadata": {},
   "outputs": [],
   "source": []
  },
  {
   "cell_type": "code",
   "execution_count": null,
   "metadata": {},
   "outputs": [],
   "source": []
  },
  {
   "cell_type": "code",
   "execution_count": null,
   "metadata": {},
   "outputs": [],
   "source": []
  },
  {
   "cell_type": "code",
   "execution_count": null,
   "metadata": {},
   "outputs": [],
   "source": []
  },
  {
   "cell_type": "code",
   "execution_count": null,
   "metadata": {},
   "outputs": [],
   "source": []
  },
  {
   "cell_type": "code",
   "execution_count": null,
   "metadata": {},
   "outputs": [],
   "source": []
  },
  {
   "cell_type": "code",
   "execution_count": null,
   "metadata": {},
   "outputs": [],
   "source": []
  },
  {
   "cell_type": "code",
   "execution_count": null,
   "metadata": {},
   "outputs": [],
   "source": []
  },
  {
   "cell_type": "code",
   "execution_count": null,
   "metadata": {},
   "outputs": [],
   "source": []
  },
  {
   "cell_type": "code",
   "execution_count": null,
   "metadata": {},
   "outputs": [],
   "source": []
  },
  {
   "cell_type": "code",
   "execution_count": null,
   "metadata": {},
   "outputs": [],
   "source": []
  },
  {
   "cell_type": "code",
   "execution_count": null,
   "metadata": {},
   "outputs": [],
   "source": []
  }
 ],
 "metadata": {
  "kernelspec": {
   "display_name": "Python 3",
   "language": "python",
   "name": "python3"
  },
  "language_info": {
   "codemirror_mode": {
    "name": "ipython",
    "version": 3
   },
   "file_extension": ".py",
   "mimetype": "text/x-python",
   "name": "python",
   "nbconvert_exporter": "python",
   "pygments_lexer": "ipython3",
   "version": "3.8.2"
  }
 },
 "nbformat": 4,
 "nbformat_minor": 4
}
